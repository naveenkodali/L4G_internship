{
 "cells": [
  {
   "cell_type": "markdown",
   "metadata": {},
   "source": [
    "# 20200910\n"
   ]
  },
  {
   "cell_type": "markdown",
   "metadata": {},
   "source": [
    "PROBLEM-1"
   ]
  },
  {
   "cell_type": "markdown",
   "metadata": {},
   "source": [
    "Marks Data\n",
    "\n",
    "Marks Analysis\n",
    "    * Class Average\n",
    "    * % of students passed\n",
    "    * % of students failed \n",
    "    * % of students with distinction\n",
    "    * Highest Mark Frequency\n",
    "    * Lowest Mark Frequency\n",
    "*  Generate a Marks report\n",
    "\n"
   ]
  },
  {
   "cell_type": "code",
   "execution_count": 47,
   "metadata": {},
   "outputs": [
    {
     "name": "stdout",
     "output_type": "stream",
     "text": [
      "The average of the class is 49.416666666666664\n",
      "Percentage of students passed the examination 68.33333333333333\n",
      "Percentage of students failed the examination 31.666666666666664\n",
      "Percentage of students with distinction 21.666666666666668\n",
      "Highest mark frequency is 1\n",
      "Lowest marks frequency is 1\n",
      "\n",
      "gernating a marks reports\n",
      ".............................................................................\n",
      "student 1 marks 42 grade p\n",
      "student 2 marks 93 grade p-dist\n",
      "student 3 marks 3 grade F\n",
      "student 4 marks 71 grade p\n",
      "student 5 marks 49 grade p\n",
      "student 6 marks 41 grade p\n",
      "student 7 marks 61 grade p\n",
      "student 8 marks 38 grade p\n",
      "student 9 marks 62 grade p\n",
      "student 10 marks 93 grade p-dist\n",
      "student 11 marks 93 grade p-dist\n",
      "student 12 marks 92 grade p-dist\n",
      "student 13 marks 85 grade p-dist\n",
      "student 14 marks 11 grade F\n",
      "student 15 marks 92 grade p-dist\n",
      "student 16 marks 86 grade p-dist\n",
      "student 17 marks 85 grade p-dist\n",
      "student 18 marks 90 grade p-dist\n",
      "student 19 marks 84 grade p\n",
      "student 20 marks 52 grade p\n",
      "student 21 marks 3 grade F\n",
      "student 22 marks 24 grade F\n",
      "student 23 marks 46 grade p\n",
      "student 24 marks 86 grade p-dist\n",
      "student 25 marks 43 grade p\n",
      "student 26 marks 39 grade p\n",
      "student 27 marks 71 grade p\n",
      "student 28 marks 10 grade F\n",
      "student 29 marks 10 grade F\n",
      "student 30 marks 9 grade F\n",
      "student 31 marks 67 grade p\n",
      "student 32 marks 16 grade F\n",
      "student 33 marks 32 grade F\n",
      "student 34 marks 21 grade F\n",
      "student 35 marks 44 grade p\n",
      "student 36 marks 18 grade F\n",
      "student 37 marks 30 grade F\n",
      "student 38 marks 37 grade p\n",
      "student 39 marks 48 grade p\n",
      "student 40 marks 39 grade p\n",
      "student 41 marks 10 grade F\n",
      "student 42 marks 100 grade p-dist\n",
      "student 43 marks 65 grade p\n",
      "student 44 marks 52 grade p\n",
      "student 45 marks 52 grade p\n",
      "student 46 marks 0 grade F\n",
      "student 47 marks 22 grade F\n",
      "student 48 marks 16 grade F\n",
      "student 49 marks 57 grade p\n",
      "student 50 marks 5 grade F\n",
      "student 51 marks 55 grade p\n",
      "student 52 marks 33 grade F\n",
      "student 53 marks 35 grade p\n",
      "student 54 marks 52 grade p\n",
      "student 55 marks 96 grade p-dist\n",
      "student 56 marks 45 grade p\n",
      "student 57 marks 62 grade p\n",
      "student 58 marks 85 grade p-dist\n",
      "student 59 marks 32 grade F\n",
      "student 60 marks 75 grade p\n",
      "............................................................................\n"
     ]
    },
    {
     "data": {
      "text/plain": [
       "'success'"
      ]
     },
     "execution_count": 47,
     "metadata": {},
     "output_type": "execute_result"
    }
   ],
   "source": [
    "def condition(x):\n",
    "    return x>=35\n",
    "grade=[]\n",
    "def grader(file_name):\n",
    "    passed=0\n",
    "    failed=0\n",
    "    distinction=0\n",
    "    nav=[]\n",
    "    fh=open(file_name)\n",
    "    for line in fh:\n",
    "        line=list(map(int,line.split(', ')))\n",
    "    for x in line:\n",
    "        if condition(x) and x<85:\n",
    "            passed+=1\n",
    "            grade.append('p')\n",
    "        elif x>=85:\n",
    "            passed+=1\n",
    "            distinction+=1\n",
    "            grade.append('p-dist')\n",
    "        else:\n",
    "            failed+=1\n",
    "            grade.append('F')\n",
    "    print('The average of the class is',sum(line)/len(line))\n",
    "    print('Percentage of students passed the examination',(passed/len(line))*100)\n",
    "    print('Percentage of students failed the examination',(failed/len(line))*100)\n",
    "    print('Percentage of students with distinction',(distinction/len(line))*100)\n",
    "    mx=max(line)\n",
    "    mn=min(line)\n",
    "    print('Highest mark frequency is',line.count(mx))\n",
    "    print('Lowest marks frequency is',line.count(mn))\n",
    "    print('\\ngernating a marks reports\\n.............................................................................')\n",
    "    for i in range(len(line)):\n",
    "        print('student',i+1,'marks',line[i],'grade',grade[i])\n",
    "    print('............................................................................')\n",
    "    return \"success\"\n",
    "\n",
    "grader('marks.txt')    "
   ]
  },
  {
   "cell_type": "code",
   "execution_count": null,
   "metadata": {},
   "outputs": [],
   "source": []
  }
 ],
 "metadata": {
  "kernelspec": {
   "display_name": "Python 3",
   "language": "python",
   "name": "python3"
  },
  "language_info": {
   "codemirror_mode": {
    "name": "ipython",
    "version": 3
   },
   "file_extension": ".py",
   "mimetype": "text/x-python",
   "name": "python",
   "nbconvert_exporter": "python",
   "pygments_lexer": "ipython3",
   "version": "3.7.6"
  }
 },
 "nbformat": 4,
 "nbformat_minor": 4
}
