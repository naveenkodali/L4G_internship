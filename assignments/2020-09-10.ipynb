{
 "cells": [
  {
   "cell_type": "markdown",
   "metadata": {},
   "source": [
    "# 20200910\n"
   ]
  },
  {
   "cell_type": "markdown",
   "metadata": {},
   "source": [
    "## PROBLEM-1"
   ]
  },
  {
   "cell_type": "markdown",
   "metadata": {},
   "source": [
    "Marks Data\n",
    "\n",
    "Marks Analysis\n",
    "    * Class Average\n",
    "    * % of students passed\n",
    "    * % of students failed \n",
    "    * % of students with distinction\n",
    "    * Highest Mark Frequency\n",
    "    * Lowest Mark Frequency\n",
    "*  Generate a Marks report\n",
    "\n"
   ]
  },
  {
   "cell_type": "code",
   "execution_count": null,
   "metadata": {},
   "outputs": [],
   "source": [
    "import sys\n",
    "grade=[]\n",
    "def grader(file_name):\n",
    "    passed=0\n",
    "    failed=0\n",
    "    distinction=0\n",
    "    fh=open(file_name)\n",
    "    for line in fh:\n",
    "        line=list(map(int,line.split(', ')))\n",
    "    for x in line:\n",
    "        if x>=35 and x<85:\n",
    "            passed+=1\n",
    "            grade.append('p')\n",
    "        elif x>=85:\n",
    "            passed+=1\n",
    "            distinction+=1\n",
    "            grade.append('p-dist')\n",
    "        else:\n",
    "            failed+=1\n",
    "            grade.append('F')\n",
    "    mx=max(line)\n",
    "    mn=min(line)\n",
    "    original_stdout=sys.stdout\n",
    "    with open('marks_list4.txt','a') as f:\n",
    "        sys.stdout=f\n",
    "        print('The average of the class is',sum(line)/len(line))\n",
    "        print('Percentage of students passed the examination',(passed/len(line))*100)\n",
    "        print('Percentage of students failed the examination',(failed/len(line))*100)\n",
    "        print('Percentage of students with distinction',(distinction/len(line))*100)\n",
    "        print('Highest mark frequency is',line.count(mx))\n",
    "        print('Lowest marks frequency is',line.count(mn))\n",
    "        sys.stdout=originial_stdout\n",
    "grader('marks.txt')    "
   ]
  },
  {
   "cell_type": "markdown",
   "metadata": {},
   "source": [
    "## PROBLEM-2"
   ]
  },
  {
   "cell_type": "markdown",
   "metadata": {},
   "source": [
    "Take a random text file and create functions for the following attributes. \n",
    "\n",
    "Character Count...\n",
    "Line Count...\n",
    "File Size...\n",
    "Word Count...\n",
    "Unique Word Count....\n",
    "Word with highest frequency....\n"
   ]
  },
  {
   "cell_type": "code",
   "execution_count": 2,
   "metadata": {},
   "outputs": [
    {
     "data": {
      "text/plain": [
       "167"
      ]
     },
     "execution_count": 2,
     "metadata": {},
     "output_type": "execute_result"
    }
   ],
   "source": [
    "def character_count(file_name):\n",
    "    strm=\"\"\n",
    "    fh=open(file_name)\n",
    "    for line in fh:\n",
    "        line=line.rstrip()\n",
    "        line=line.split(' ')\n",
    "        for i in line:\n",
    "            strm=strm+i\n",
    "    return len(strm)\n",
    "\n",
    "def line_count(file_name):\n",
    "    count=0\n",
    "    fh=open(file_name)\n",
    "    for line in fh:\n",
    "        line=line.rstrip()\n",
    "        count+=1\n",
    "    return count\n",
    "\n",
    "import os\n",
    "def file_size(file_name):\n",
    "    return os.path.getsize(file_name)\n",
    "\n",
    "def word_count(file_name):\n",
    "    count=0\n",
    "    fh=open(file_name)\n",
    "    for line in fh:\n",
    "        line=line.rstrip()\n",
    "        line=line.split(' ')\n",
    "        count+=len(line)\n",
    "    return count\n",
    "\n",
    "def unq_word_count(file_name):\n",
    "    nav=[]\n",
    "    fh=open(file_name)\n",
    "    for line in fh:\n",
    "        line=line.rstrip()\n",
    "        line=line.split(' ')\n",
    "        nav=nav+line\n",
    "    nav=set(nav)\n",
    "    return len(nav)\n",
    "\n",
    "def highest_freq_count(file_name):\n",
    "    count=0\n",
    "    lst=[]\n",
    "    nav=[]\n",
    "    fh=open(file_name)\n",
    "    for line in fh:\n",
    "        line=line.rstrip()\n",
    "        line=line.split(' ')\n",
    "        nav=nav+line\n",
    "    tmp=set(nav)\n",
    "    for i in tmp:\n",
    "        if nav.count(i)>=count:\n",
    "            if count==nav.count(i):\n",
    "                lst.append([count,i])\n",
    "            else:\n",
    "                lst=[]\n",
    "                count=nav.count(i)\n",
    "                lst.append([count,i])        \n",
    "    return lst\n",
    "\n",
    "#highest_freq_count('romeo.txt')\n",
    "file_size('romeo.txt')\n",
    "#character_count('romeo.txt')"
   ]
  },
  {
   "cell_type": "code",
   "execution_count": null,
   "metadata": {},
   "outputs": [],
   "source": [
    "#problem-1 method 2\n"
   ]
  },
  {
   "cell_type": "code",
   "execution_count": null,
   "metadata": {},
   "outputs": [],
   "source": []
  }
 ],
 "metadata": {
  "kernelspec": {
   "display_name": "Python 3",
   "language": "python",
   "name": "python3"
  },
  "language_info": {
   "codemirror_mode": {
    "name": "ipython",
    "version": 3
   },
   "file_extension": ".py",
   "mimetype": "text/x-python",
   "name": "python",
   "nbconvert_exporter": "python",
   "pygments_lexer": "ipython3",
   "version": "3.7.6"
  }
 },
 "nbformat": 4,
 "nbformat_minor": 4
}
