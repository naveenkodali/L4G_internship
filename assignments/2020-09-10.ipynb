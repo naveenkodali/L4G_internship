{
 "cells": [
  {
   "cell_type": "markdown",
   "metadata": {},
   "source": [
    "# 20200910\n"
   ]
  },
  {
   "cell_type": "markdown",
   "metadata": {},
   "source": [
    "PROBLEM-1"
   ]
  },
  {
   "cell_type": "markdown",
   "metadata": {},
   "source": [
    "Marks Data\n",
    "\n",
    "Marks Analysis\n",
    "    * Class Average\n",
    "    * % of students passed\n",
    "    * % of students failed \n",
    "    * % of students with distinction\n",
    "    * Highest Mark Frequency\n",
    "    * Lowest Mark Frequency\n",
    "*  Generate a Marks report\n",
    "\n"
   ]
  },
  {
   "cell_type": "code",
   "execution_count": 41,
   "metadata": {},
   "outputs": [
    {
     "name": "stdout",
     "output_type": "stream",
     "text": [
      "The average of the class is 49.416666666666664\n",
      "Percentage of students passed the examination 68.33333333333333\n",
      "Percentage of students failed the examination 31.666666666666664\n",
      "Percentage of students with distinction 21.666666666666668\n",
      "Highest mark frequency is 1\n",
      "Lowest marks frequency is 1\n"
     ]
    },
    {
     "data": {
      "text/plain": [
       "'success'"
      ]
     },
     "execution_count": 41,
     "metadata": {},
     "output_type": "execute_result"
    }
   ],
   "source": [
    "def condition(x):\n",
    "    return x>=35\n",
    "def grader(file_name):\n",
    "    passed=0\n",
    "    failed=0\n",
    "    distinction=0\n",
    "    nav=[]\n",
    "    fh=open(file_name)\n",
    "    for line in fh:\n",
    "        line=list(map(int,line.split(', ')))\n",
    "    for x in line:\n",
    "        if condition(x) and x<85:\n",
    "            passed+=1\n",
    "        elif x>=85:\n",
    "            passed+=1\n",
    "            distinction+=1\n",
    "        else:\n",
    "            failed+=1\n",
    "    print('The average of the class is',sum(line)/len(line))\n",
    "    print('Percentage of students passed the examination',(passed/len(line))*100)\n",
    "    print('Percentage of students failed the examination',(failed/len(line))*100)\n",
    "    print('Percentage of students with distinction',(distinction/len(line))*100)\n",
    "    mx=max(line)\n",
    "    mn=min(line)\n",
    "    print('Highest mark frequency is',line.count(mx))\n",
    "    print('Lowest marks frequency is',line.count(mn))\n",
    "    return \"success\"\n",
    "\n",
    "grader('marks.txt')    "
   ]
  },
  {
   "cell_type": "code",
   "execution_count": null,
   "metadata": {},
   "outputs": [],
   "source": []
  }
 ],
 "metadata": {
  "kernelspec": {
   "display_name": "Python 3",
   "language": "python",
   "name": "python3"
  },
  "language_info": {
   "codemirror_mode": {
    "name": "ipython",
    "version": 3
   },
   "file_extension": ".py",
   "mimetype": "text/x-python",
   "name": "python",
   "nbconvert_exporter": "python",
   "pygments_lexer": "ipython3",
   "version": "3.7.6"
  }
 },
 "nbformat": 4,
 "nbformat_minor": 4
}
