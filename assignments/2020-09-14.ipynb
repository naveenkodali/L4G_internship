{
 "cells": [
  {
   "cell_type": "markdown",
   "metadata": {},
   "source": [
    "# 20200914\n"
   ]
  },
  {
   "cell_type": "markdown",
   "metadata": {},
   "source": [
    " ## PROBLEM-1"
   ]
  },
  {
   "cell_type": "markdown",
   "metadata": {},
   "source": [
    "Frequency Distribution of all words in a text file arranged in dictionary order\n",
    "\n",
    "Sample Input:\n",
    "\n",
    "Python java data ML ML data\n",
    "\n",
    "Sample Output:\n",
    "\n",
    "data : 2\n",
    "\n",
    "Java : 1\n",
    "\n",
    "ML : 2\n",
    "\n",
    "Python : 1\n"
   ]
  },
  {
   "cell_type": "code",
   "execution_count": 11,
   "metadata": {},
   "outputs": [
    {
     "name": "stdout",
     "output_type": "stream",
     "text": [
      "OrderedDict([('Arise', 1), ('But', 1), ('It', 1), ('Juliet', 1), ('Who', 1), ('already', 1), ('and', 3), ('breaks', 1), ('east', 1), ('envious', 1), ('fair', 1), ('grief', 1), ('is', 3), ('kill', 1), ('light', 1), ('moon', 1), ('pale', 1), ('sick', 1), ('soft', 1), ('sun', 2), ('the', 3), ('through', 1), ('what', 1), ('window', 1), ('with', 1), ('yonder', 1)])\n"
     ]
    },
    {
     "data": {
      "text/plain": [
       "'SUCCESS'"
      ]
     },
     "execution_count": 11,
     "metadata": {},
     "output_type": "execute_result"
    }
   ],
   "source": [
    "from collections import OrderedDict\n",
    "def freq_dist(file_name):\n",
    "    nav=[]\n",
    "    res={}\n",
    "    fh=open(file_name)\n",
    "    for line in fh:\n",
    "        line=line.rstrip()\n",
    "        line=line.split(\" \")\n",
    "        nav=nav+line\n",
    "    for item in nav:\n",
    "        res[item]=res.get(item,0)+1\n",
    "    dict1=OrderedDict(sorted(res.items()))\n",
    "    print(dict1)\n",
    "    return \"SUCCESS\"\n",
    "freq_dist('romeo.txt')"
   ]
  },
  {
   "cell_type": "code",
   "execution_count": 17,
   "metadata": {},
   "outputs": [
    {
     "data": {
      "text/plain": [
       "[['Arise', 1],\n",
       " ['But', 1],\n",
       " ['It', 1],\n",
       " ['Juliet', 1],\n",
       " ['Who', 1],\n",
       " ['already', 1],\n",
       " ['and', 3],\n",
       " ['breaks', 1],\n",
       " ['east', 1],\n",
       " ['envious', 1],\n",
       " ['fair', 1],\n",
       " ['grief', 1],\n",
       " ['is', 3],\n",
       " ['kill', 1],\n",
       " ['light', 1],\n",
       " ['moon', 1],\n",
       " ['pale', 1],\n",
       " ['sick', 1],\n",
       " ['soft', 1],\n",
       " ['sun', 2],\n",
       " ['the', 3],\n",
       " ['through', 1],\n",
       " ['what', 1],\n",
       " ['window', 1],\n",
       " ['with', 1],\n",
       " ['yonder', 1]]"
      ]
     },
     "execution_count": 17,
     "metadata": {},
     "output_type": "execute_result"
    }
   ],
   "source": [
    "#method-2\n",
    "def freq_count(file_name):\n",
    "    temp=[]\n",
    "    nav=[]\n",
    "    res=[]\n",
    "    fh=open(file_name)\n",
    "    for line in fh:\n",
    "        line=line.rstrip()\n",
    "        line=line.split(' ')\n",
    "        nav=nav+line\n",
    "    temp=set(nav)\n",
    "    temp=sorted(temp)\n",
    "    for i in temp:\n",
    "        res.append([i,nav.count(i)])\n",
    "    return res\n",
    "freq_count('romeo.txt')"
   ]
  },
  {
   "cell_type": "markdown",
   "metadata": {},
   "source": [
    "## PROBLEM-2"
   ]
  },
  {
   "cell_type": "markdown",
   "metadata": {},
   "source": [
    "Find and Replace application\n",
    "\n",
    "Count the total number of occurrences of a word\n",
    "\n",
    "Check If a word is existing in a file\n",
    "\n",
    "Replace all occurrences of a word with another word\n"
   ]
  },
  {
   "cell_type": "code",
   "execution_count": 21,
   "metadata": {},
   "outputs": [
    {
     "data": {
      "text/plain": [
       "3"
      ]
     },
     "execution_count": 21,
     "metadata": {},
     "output_type": "execute_result"
    }
   ],
   "source": [
    "def occurrence_of_given_word(file_name,word):\n",
    "    nav=[]\n",
    "    fh=open(file_name)\n",
    "    for line in fh:\n",
    "        line=line.rstrip()\n",
    "        line=line.split(\" \")\n",
    "        nav=nav+line\n",
    "        cnt=nav.count(word)\n",
    "    return cnt\n",
    "occurrence_of_given_word('romeo.txt','the') "
   ]
  },
  {
   "cell_type": "code",
   "execution_count": 23,
   "metadata": {},
   "outputs": [
    {
     "data": {
      "text/plain": [
       "'word exists in file'"
      ]
     },
     "execution_count": 23,
     "metadata": {},
     "output_type": "execute_result"
    }
   ],
   "source": [
    "def does_word_exist_in_file(file_name,word):\n",
    "    nav=[]\n",
    "    fh=open(file_name)\n",
    "    for line in fh:\n",
    "        line=line.rstrip()\n",
    "        line=line.split(\" \")\n",
    "        nav=nav+line\n",
    "    if word in nav:\n",
    "        return \"word exists in file\"\n",
    "    return \"word does not exist\"\n",
    "does_word_exist_in_file('romeo.txt','the') "
   ]
  },
  {
   "cell_type": "code",
   "execution_count": 1,
   "metadata": {},
   "outputs": [
    {
     "name": "stdout",
     "output_type": "stream",
     "text": [
      "But soft what light through yonder window breaks\n",
      "It is the east and Juliet is the sun\n",
      "Arise fair sun and kill the envious moon\n",
      "Who is already sick and pale with grief\n",
      "\n",
      "But soft what light through yonder window breaks\n",
      "It is and east and Juliet is and sun\n",
      "Arise fair sun and kill and envious moon\n",
      "Who is already sick and pale with grief\n",
      "\n"
     ]
    }
   ],
   "source": [
    "def replace_word(filename,oldword,newword):\n",
    "    nav=[]\n",
    "    fh=open(filename)\n",
    "    for line in fh:\n",
    "        line=line.strip()\n",
    "        line=line.split(\" \")\n",
    "        nav=nav+line\n",
    "    if oldword not in nav:\n",
    "        return \"given word does not exist in file\"\n",
    "    #openfile\n",
    "    with open(filename, 'r+') as f:\n",
    "        file_source = f.read()\n",
    "        print(file_source)\n",
    "        replace_string = file_source.replace(oldword,newword)\n",
    "        #f.truncate(0)\n",
    "        #write_file = f.write(replace_string)\n",
    "    with open(filename,'w') as f:\n",
    "        f.write(replace_string)\n",
    "    with open(filename,'r+') as f:\n",
    "        print(f.read())\n",
    "replace_word('romeo.txt','the','and')"
   ]
  },
  {
   "cell_type": "markdown",
   "metadata": {},
   "source": [
    "## PROBLEM-3"
   ]
  },
  {
   "cell_type": "markdown",
   "metadata": {},
   "source": [
    "Checking for Anagrams(Strings consisting of same character set and character frequency)\n",
    "\n",
    "input              \n",
    "\n",
    "abcabc      aabbcc -> True\n",
    "\n",
    "abcd        abcdd -> False\n"
   ]
  },
  {
   "cell_type": "code",
   "execution_count": 11,
   "metadata": {},
   "outputs": [
    {
     "data": {
      "text/plain": [
       "True"
      ]
     },
     "execution_count": 11,
     "metadata": {},
     "output_type": "execute_result"
    }
   ],
   "source": [
    "def anagrams_or_not(a,b):\n",
    "    if(sorted(a)==sorted(b)):\n",
    "        return True\n",
    "    return False\n",
    "anagrams_or_not('abcabc112','a2abbcc11')"
   ]
  },
  {
   "cell_type": "markdown",
   "metadata": {},
   "source": [
    "## PROBLEM-4"
   ]
  },
  {
   "cell_type": "markdown",
   "metadata": {},
   "source": [
    "Minimum character additions/deletions to make two strings as Anagrams\n",
    "\n",
    "input\n",
    "\n",
    "abcabc aabbcc -> 0\n",
    "\n",
    "abcd abcdd -> 1\n",
    "\n",
    "123abcbca  456aaabbbccc -> 9\n"
   ]
  },
  {
   "cell_type": "code",
   "execution_count": 19,
   "metadata": {},
   "outputs": [
    {
     "data": {
      "text/plain": [
       "4"
      ]
     },
     "execution_count": 19,
     "metadata": {},
     "output_type": "execute_result"
    }
   ],
   "source": [
    "def min_char_anagram(a,b):\n",
    "    nav=sorted(a)\n",
    "    lst=sorted(b)\n",
    "    count=0\n",
    "    mx=max(len(nav),len(lst))\n",
    "    mn=min(len(nav),len(lst))\n",
    "    for i in nav:\n",
    "        if i in lst:\n",
    "            count+=1\n",
    "    return mx-count + mn-count\n",
    "min_char_anagram('abcabc','aabbcc')"
   ]
  },
  {
   "cell_type": "code",
   "execution_count": null,
   "metadata": {},
   "outputs": [],
   "source": []
  }
 ],
 "metadata": {
  "kernelspec": {
   "display_name": "Python 3",
   "language": "python",
   "name": "python3"
  },
  "language_info": {
   "codemirror_mode": {
    "name": "ipython",
    "version": 3
   },
   "file_extension": ".py",
   "mimetype": "text/x-python",
   "name": "python",
   "nbconvert_exporter": "python",
   "pygments_lexer": "ipython3",
   "version": "3.7.6"
  }
 },
 "nbformat": 4,
 "nbformat_minor": 4
}
