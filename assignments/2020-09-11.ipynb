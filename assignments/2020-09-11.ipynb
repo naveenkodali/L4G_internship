{
 "cells": [
  {
   "cell_type": "markdown",
   "metadata": {},
   "source": [
    "# 20200911"
   ]
  },
  {
   "cell_type": "markdown",
   "metadata": {},
   "source": [
    "## PROBLEM-1"
   ]
  },
  {
   "cell_type": "markdown",
   "metadata": {},
   "source": [
    "Digit Frequency - Generate a frequency distribution for all digits in an Alphanumeric string\n",
    "\n",
    "Input : ‘abc1122665’\n",
    "\n",
    "Output : 0:0, 1:2, 2:4, 3:0, 4:0, 5:1, 6:2, 7:0, 8:0, 9:0\n",
    "\n",
    "Input : ‘qwerty’\n",
    "\n",
    "Output : 0:0, 1:0, 2:0, 3:0, 4:0, 5:0, 6:0, 7:0, 8:0, 9:0\n"
   ]
  },
  {
   "cell_type": "code",
   "execution_count": 2,
   "metadata": {},
   "outputs": [
    {
     "name": "stdout",
     "output_type": "stream",
     "text": [
      "freuency of 0 is 0\n",
      "freuency of 1 is 2\n",
      "freuency of 2 is 2\n",
      "freuency of 3 is 0\n",
      "freuency of 4 is 0\n",
      "freuency of 5 is 1\n",
      "freuency of 6 is 2\n",
      "freuency of 7 is 0\n",
      "freuency of 8 is 0\n",
      "freuency of 9 is 0\n"
     ]
    },
    {
     "data": {
      "text/plain": [
       "True"
      ]
     },
     "execution_count": 2,
     "metadata": {},
     "output_type": "execute_result"
    }
   ],
   "source": [
    "def digit_frequency(st):\n",
    "    for i in range(10):\n",
    "        print('freuency of',i,'is',st.count(str(i)))\n",
    "    return True\n",
    "digit_frequency('abc1122665')"
   ]
  },
  {
   "cell_type": "markdown",
   "metadata": {},
   "source": [
    "## PROBLEM-2"
   ]
  },
  {
   "cell_type": "markdown",
   "metadata": {},
   "source": [
    "Second highest frequency - Marks Data\n"
   ]
  },
  {
   "cell_type": "code",
   "execution_count": 16,
   "metadata": {},
   "outputs": [
    {
     "data": {
      "text/plain": [
       "3"
      ]
     },
     "execution_count": 16,
     "metadata": {},
     "output_type": "execute_result"
    }
   ],
   "source": [
    "def second_highest_freq(file_name):\n",
    "    fh=open(file_name)\n",
    "    for line in fh:\n",
    "        nav=list(map(int,line.split(', ')))\n",
    "        tp=set(nav)\n",
    "        temp=list(tp)\n",
    "        temp.sort(reverse=True)\n",
    "    return nav.count(temp[1])\n",
    "second_highest_freq('marks.txt')"
   ]
  },
  {
   "cell_type": "markdown",
   "metadata": {},
   "source": [
    "## PROBLEM-3"
   ]
  },
  {
   "cell_type": "markdown",
   "metadata": {},
   "source": [
    "K-highest frequency - return the number of students with rank ‘k’\n"
   ]
  },
  {
   "cell_type": "code",
   "execution_count": 20,
   "metadata": {},
   "outputs": [
    {
     "name": "stdout",
     "output_type": "stream",
     "text": [
      "[0, 3, 3, 5, 9, 10, 10, 10, 11, 16, 16, 18, 21, 22, 24, 30, 32, 32, 33, 35, 37, 38, 39, 39, 41, 42, 43, 44, 45, 46, 48, 49, 52, 52, 52, 52, 55, 57, 61, 62, 62, 65, 67, 71, 71, 75, 84, 85, 85, 85, 86, 86, 90, 92, 92, 93, 93, 93, 96, 100]\n"
     ]
    },
    {
     "data": {
      "text/plain": [
       "2"
      ]
     },
     "execution_count": 20,
     "metadata": {},
     "output_type": "execute_result"
    }
   ],
   "source": [
    "def K_highest_freq(file_name,k):\n",
    "    fh=open(file_name)\n",
    "    for line in fh:\n",
    "        nav=list(map(int,line.split(', ')))\n",
    "        tp=set(nav)\n",
    "        temp=list(tp)\n",
    "        temp.sort(reverse=True)\n",
    "    return nav.count(temp[k-1])\n",
    "K_highest_freq('marks.txt',4)"
   ]
  },
  {
   "cell_type": "code",
   "execution_count": null,
   "metadata": {},
   "outputs": [],
   "source": []
  }
 ],
 "metadata": {
  "kernelspec": {
   "display_name": "Python 3",
   "language": "python",
   "name": "python3"
  },
  "language_info": {
   "codemirror_mode": {
    "name": "ipython",
    "version": 3
   },
   "file_extension": ".py",
   "mimetype": "text/x-python",
   "name": "python",
   "nbconvert_exporter": "python",
   "pygments_lexer": "ipython3",
   "version": "3.7.6"
  }
 },
 "nbformat": 4,
 "nbformat_minor": 4
}
