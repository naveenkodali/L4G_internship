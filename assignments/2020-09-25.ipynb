{
 "cells": [
  {
   "cell_type": "markdown",
   "metadata": {},
   "source": [
    "# PROBLEM-1"
   ]
  },
  {
   "cell_type": "markdown",
   "metadata": {},
   "source": [
    "Create a File Encryption Function that takes a text file, key and replaces all characters and digits in the file with a corresponding character after key number of shifts.\n",
    "\n",
    "Create a File Decryption function that takes Encrypted file, Key and creates the original file\n"
   ]
  },
  {
   "cell_type": "markdown",
   "metadata": {},
   "source": [
    "Caesers Cipher - ASCII 33 to 126\n",
    "\n",
    "Key Shift = 3, A -> D, B -> E, Z -> ], 6 -> 9, 9 -> <\n",
    "\n",
    "Key Shift = 3, ‘Python’ -> ‘Sbwkrq’\n"
   ]
  },
  {
   "cell_type": "code",
   "execution_count": 46,
   "metadata": {},
   "outputs": [
    {
     "name": "stdout",
     "output_type": "stream",
     "text": [
      "But soft what light through yonder window breaks9\n",
      "It is the east and Juliet is the sun1\n",
      "Arise fair sun and kill the envious moon8\n",
      "Who is already sick and pale with grief7\n",
      "\n",
      "Exw vriw zkdw oljkw wkurxjk brqghu zlqgrz euhdnv2\n",
      "Lw lv wkh hdvw dqg Mxolhw lv wkh vxq4\n",
      "Dulvh idlu vxq dqg nloo wkh hqylrxv prrq1\n",
      "Zkr lv douhdgb vlfn dqg sdoh zlwk julhi0\n",
      "\n",
      "But soft what light through yonder window breaks9\n",
      "It is the east and Juliet is the sun1\n",
      "Arise fair sun and kill the envious moon8\n",
      "Who is already sick and pale with grief7\n",
      "\n"
     ]
    }
   ],
   "source": [
    "def encrypted_func(file_name):\n",
    "    res=\"\"\n",
    "    with open(file_name,'r+')as f:\n",
    "        data=f.read()\n",
    "        print(data)\n",
    "        for i in range(len(data)):\n",
    "            if ord(data[i])>=65 and ord(data[i])<=90:\n",
    "                if ord(data[i])+3>90:\n",
    "                    res=res+chr(ord(data[i])+3-90+64)\n",
    "                else:\n",
    "                    res=res+chr(ord(data[i])+3)\n",
    "            elif ord(data[i])>=97 and ord(data[i])<=122:\n",
    "                if ord(data[i])+3 > 122:\n",
    "                    res=res+ chr(ord(data[i])+3-122+96)\n",
    "                else:\n",
    "                    res=res+chr(ord(data[i])+3)\n",
    "            elif ord(data[i])>=48 and ord(data[i])<=57:\n",
    "                if ord(data[i])+3>57:\n",
    "                    res=res+chr(ord(data[i])+3-57+47)\n",
    "                else:\n",
    "                    res=res+chr(ord(data[i])+3)\n",
    "            else:\n",
    "                res=res+data[i]\n",
    "    with open(file_name,'w') as f:\n",
    "        f.write(res)\n",
    "    with open(file_name,'r') as f:\n",
    "        print(f.read())\n",
    "        \n",
    "def decrypted_func(file_name):\n",
    "    res=\"\"\n",
    "    with open(file_name,'r+')as f:\n",
    "        data=f.read()\n",
    "        for i in range(len(data)):\n",
    "            if ord(data[i])>=65 and ord(data[i])<=90:\n",
    "                if ord(data[i])-3<65:\n",
    "                    res=res+chr(ord(data[i])-3-65+91)\n",
    "                else:\n",
    "                    res=res+chr(ord(data[i])-3)\n",
    "            elif ord(data[i])>=97 and ord(data[i])<=122:\n",
    "                if ord(data[i])-3 < 97:\n",
    "                    res=res+ chr(ord(data[i])-3-97+123)\n",
    "                else:\n",
    "                    res=res+chr(ord(data[i])-3)\n",
    "            elif ord(data[i])>=48 and ord(data[i])<=57:\n",
    "                if ord(data[i])-3<48:\n",
    "                    res=res+chr(ord(data[i])-3-48+58)\n",
    "                else:\n",
    "                    res=res+chr(ord(data[i])-3)\n",
    "            else:\n",
    "                res=res+data[i]\n",
    "    with open(file_name,'w') as f:\n",
    "        f.write(res)\n",
    "    with open(file_name,'r') as f:\n",
    "        print(f.read())\n",
    "encrypted_func('romeo.txt')\n",
    "decrypted_func('romeo.txt')\n",
    "    "
   ]
  },
  {
   "cell_type": "markdown",
   "metadata": {},
   "source": [
    "# PROBLEM-2"
   ]
  },
  {
   "cell_type": "markdown",
   "metadata": {},
   "source": [
    "Create a File Encryption function that takes a text file, key file and encrypts every character in the text file with the replacement character in the key file\n",
    "\n",
    "Create a Decryption function that takes an Encrypted file, Key file and recreates the original data file\n"
   ]
  },
  {
   "cell_type": "markdown",
   "metadata": {},
   "source": [
    "Key file approach - Alphanumeric characters(including lowercase and uppercase) only\n",
    "\n",
    "User creates a key file with mapping of all characters with the replaced characters\n",
    "\n",
    "A T\n",
    "\n",
    "B C\n"
   ]
  },
  {
   "cell_type": "code",
   "execution_count": 51,
   "metadata": {},
   "outputs": [
    {
     "name": "stdout",
     "output_type": "stream",
     "text": [
      "But soft what light through yonder window breaks\n",
      "It is the east and Juliet is the sun\n",
      "Arise fair sun and kill the envious moon\n",
      "Who is already sick and pale with grief\n",
      "\n",
      "Ltv rnev zgcv jhigv vgqntig wnpfdq zhpfnz aqdclr\n",
      "Ev hr vgd dcrv cpf Dtjhdv hr vgd rtp\n",
      "Mqhrd echq rtp cpf lhjj vgd dpuhntr knnp\n",
      "Qgn hr cjqdcfw rhbl cpf ocjd zhvg iqhde\n",
      "\n",
      "But soft what light through yonder window breaks\n",
      "It is the east and Juliet is the sun\n",
      "Arise fair sun and kill the envious moon\n",
      "Who is already sick and pale with grief\n",
      "\n"
     ]
    }
   ],
   "source": [
    "def encrypted_keyfile(filename,keyfile):\n",
    "    keys={}\n",
    "    res=''\n",
    "    with open(keyfile,'r') as f:\n",
    "        for line in f:\n",
    "            line=line.split(',')\n",
    "            line=line[0].split(\" \")\n",
    "            keys[line[0]]=line[1]\n",
    "    with open(filename,'r')as f:\n",
    "        data=f.read()\n",
    "        print(data)\n",
    "        for i in range(len(data)):\n",
    "            if data[i] in keys:\n",
    "                res=res+keys[data[i]]\n",
    "            else:\n",
    "                res=res+data[i]\n",
    "    with open(filename,'w+') as f:\n",
    "        f.write(res)\n",
    "    with open(filename,'r') as f:\n",
    "        print(f.read())\n",
    "def decrypted_keyfile(filename,keyfile):\n",
    "    keys={}\n",
    "    res=''\n",
    "    with open(keyfile,'r') as f:\n",
    "        for line in f:\n",
    "            line=line.split(',')\n",
    "            line=line[0].split(\" \")\n",
    "            keys[line[1]]=line[0]\n",
    "    with open(filename,'r')as f:\n",
    "        data=f.read()\n",
    "        for i in range(len(data)):\n",
    "            if data[i] in keys:\n",
    "                res=res+keys[data[i]]\n",
    "            else:\n",
    "                res=res+data[i]\n",
    "    with open(filename,'w') as f:\n",
    "        f.write(res)\n",
    "    with open(filename,'r') as f:\n",
    "        print(f.read())\n",
    "\n",
    "encrypted_keyfile('romeo.txt','datainput.csv')\n",
    "decrypted_keyfile('romeo.txt','datainput.csv')        "
   ]
  },
  {
   "cell_type": "code",
   "execution_count": null,
   "metadata": {},
   "outputs": [],
   "source": []
  }
 ],
 "metadata": {
  "kernelspec": {
   "display_name": "Python 3",
   "language": "python",
   "name": "python3"
  },
  "language_info": {
   "codemirror_mode": {
    "name": "ipython",
    "version": 3
   },
   "file_extension": ".py",
   "mimetype": "text/x-python",
   "name": "python",
   "nbconvert_exporter": "python",
   "pygments_lexer": "ipython3",
   "version": "3.7.6"
  }
 },
 "nbformat": 4,
 "nbformat_minor": 4
}
