{
 "cells": [
  {
   "cell_type": "markdown",
   "metadata": {},
   "source": [
    "# Problem Set - 20200903"
   ]
  },
  {
   "cell_type": "markdown",
   "metadata": {},
   "source": [
    "Function to validate a phone number                         \n",
    "*def phoneValidator(number):                                \n",
    "*Start with 6-9 followed by 9 digits                 \n",
    "*+91-(10 digits)\n"
   ]
  },
  {
   "cell_type": "code",
   "execution_count": 30,
   "metadata": {},
   "outputs": [
    {
     "name": "stdout",
     "output_type": "stream",
     "text": [
      "13\n"
     ]
    },
    {
     "data": {
      "text/plain": [
       "'phone number is not valid '"
      ]
     },
     "execution_count": 30,
     "metadata": {},
     "output_type": "execute_result"
    }
   ],
   "source": [
    "import re\n",
    "def phoneValidator(number):\n",
    "    ln=len(number)\n",
    "    print(ln)\n",
    "    if ln>13 or ln==11 or ln==12:\n",
    "        return \"phone number is not valid\"\n",
    "    if ln==10 and re.search('^[6-9][0-9]{9}$',number):\n",
    "        return \"phone number is valid\"\n",
    "    elif re.search('^(91)[6-9][0-9]{9}$',number[1:]) and number[0]=='+':\n",
    "        return \"phone number is valid\"\n",
    "    return \"phone number is not valid \"\n",
    "\n",
    "phoneValidator(\"+915281609918\")"
   ]
  },
  {
   "cell_type": "markdown",
   "metadata": {},
   "source": [
    "## problem statement-2"
   ]
  },
  {
   "cell_type": "markdown",
   "metadata": {},
   "source": [
    "Function to validate email id"
   ]
  },
  {
   "cell_type": "markdown",
   "metadata": {},
   "source": [
    "def emailValidator(email):\n",
    "    \n",
    "username\n",
    "\n",
    "Length of username : [6,15]\n",
    "\n",
    "No special characters other than _ .\n",
    "\n",
    "Should not begin and end with _ .\n",
    "\n",
    "Character Set : all digits and lower case alphabet _.\n",
    "\n",
    "domain\n",
    "\n",
    "Length of domain : [3, 18]\n",
    "\n",
    "No special characters\n",
    "\n",
    "Character Set : all digits and lower case alphabet\n",
    "\n",
    "extension\n",
    "\n",
    "Length of extension : [2, 4]\n",
    "\n",
    "No special characters\n",
    "\n",
    "Character Set : lower case alphabet\n"
   ]
  },
  {
   "cell_type": "code",
   "execution_count": 4,
   "metadata": {},
   "outputs": [
    {
     "data": {
      "text/plain": [
       "'emailid is not valid'"
      ]
     },
     "execution_count": 4,
     "metadata": {},
     "output_type": "execute_result"
    }
   ],
   "source": [
    "import re\n",
    "def emailValidator(emailid):\n",
    "    nav=emailid.split('@')\n",
    "    nav1=nav[1].split('.')\n",
    "    if re.search('([0-9a-z]){6}[a-z 0-9 - .]{0,9}',nav[0]) and len(nav[0])<=15 :\n",
    "        if re.search('([a-z0-9]){3,18}$', nav1[0]) and len(nav1[0])<=18:\n",
    "            if re.search('([a-z]){2,4}',nav1[1]) and (len(nav1[1])<=4):\n",
    "                return \"emailid is valid\"\n",
    "    \n",
    "    return \"emailid is not valid\"\n",
    "    \n",
    "emailValidator(\"naveenk.od_ali@email.com\")"
   ]
  },
  {
   "cell_type": "markdown",
   "metadata": {},
   "source": [
    "## problem statement-3"
   ]
  },
  {
   "cell_type": "markdown",
   "metadata": {},
   "source": [
    "Function to validate a URL\n"
   ]
  },
  {
   "cell_type": "code",
   "execution_count": null,
   "metadata": {},
   "outputs": [],
   "source": [
    "def validateURL(url):\n",
    "    "
   ]
  },
  {
   "cell_type": "markdown",
   "metadata": {},
   "source": [
    "## problem statement4"
   ]
  },
  {
   "cell_type": "markdown",
   "metadata": {},
   "source": [
    "Function to validate Password\n",
    "\n",
    "1)Minimum 6 characters\n",
    "\n",
    "2)Character set : all alphabet(lower case, upper case), all digits, special characters except whitespace\n",
    "\n",
    "3)Should contain at least one upper case letter, one digit and one special character\n",
    "   Maximum 18 characters\n"
   ]
  },
  {
   "cell_type": "code",
   "execution_count": 32,
   "metadata": {},
   "outputs": [
    {
     "data": {
      "text/plain": [
       "'password is valid'"
      ]
     },
     "execution_count": 32,
     "metadata": {},
     "output_type": "execute_result"
    }
   ],
   "source": [
    "import re\n",
    "def validatePassword(pwd):\n",
    "    if pwd.find(\" \")!=-1:\n",
    "        return \"password is invalid p\"\n",
    "    ln=len(pwd)\n",
    "    count=0\n",
    "    for i in range(len(pwd)):\n",
    "        if ord(pwd[i])>=65 and ord(pwd[i])<=90:\n",
    "            count+=1\n",
    "            break\n",
    "    for i in range(10):\n",
    "        if pwd.find(str(i))!=-1:\n",
    "            count+=1\n",
    "            break;\n",
    "    nav=['@','#','$','%','^','&','*','+']\n",
    "    for i in nav:\n",
    "        if pwd.find(i)!=-1:\n",
    "            count+=1\n",
    "            break\n",
    "    if re.search('([a-z A-z 0-9 ! @ # $ % ^ & * + _ - ;]){6,18}',pwd) and ln<=18 and count==3:\n",
    "        return \"password is valid\"\n",
    "    return \"password is invalid\"\n",
    "\n",
    "validatePassword(\"navee@kLy9\")"
   ]
  },
  {
   "cell_type": "code",
   "execution_count": null,
   "metadata": {},
   "outputs": [],
   "source": []
  },
  {
   "cell_type": "code",
   "execution_count": null,
   "metadata": {},
   "outputs": [],
   "source": []
  }
 ],
 "metadata": {
  "kernelspec": {
   "display_name": "Python 3",
   "language": "python",
   "name": "python3"
  },
  "language_info": {
   "codemirror_mode": {
    "name": "ipython",
    "version": 3
   },
   "file_extension": ".py",
   "mimetype": "text/x-python",
   "name": "python",
   "nbconvert_exporter": "python",
   "pygments_lexer": "ipython3",
   "version": "3.7.6"
  }
 },
 "nbformat": 4,
 "nbformat_minor": 4
}
